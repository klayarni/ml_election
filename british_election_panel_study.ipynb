{
 "cells": [
  {
   "cell_type": "markdown",
   "metadata": {
    "colab_type": "text",
    "id": "ppYpVciAzbi6"
   },
   "source": [
    "# Imports"
   ]
  },
  {
   "cell_type": "code",
   "execution_count": null,
   "metadata": {
    "colab": {},
    "colab_type": "code",
    "id": "pfeYxEOmzax8"
   },
   "outputs": [],
   "source": [
    "from os.path import join\n",
    "import numpy as np\n",
    "import pandas as pd\n",
    "import matplotlib.pyplot as plt\n",
    "import seaborn as sns\n",
    "from mlxtend.plotting import plot_decision_regions\n",
    "from sklearn.multiclass import OneVsRestClassifier\n",
    "from sklearn.preprocessing import label_binarize\n",
    "from sklearn.metrics import classification_report, confusion_matrix,f1_score,make_scorer,roc_curve, auc\n",
    "from mpl_toolkits.mplot3d import Axes3D\n",
    "from scipy.stats import norm\n",
    "from sklearn.preprocessing import StandardScaler\n",
    "from sklearn.model_selection import learning_curve,ShuffleSplit,validation_curve, train_test_split #for splitting data\n",
    "import sklearn.metrics\n",
    "from sklearn.svm import SVC\n",
    "from tpot import TPOTClassifier\n",
    "from scipy import stats\n",
    "import warnings\n",
    "\n",
    "warnings.filterwarnings('ignore')\n",
    "%matplotlib inline"
   ]
  },
  {
   "cell_type": "markdown",
   "metadata": {
    "colab_type": "text",
    "id": "65wVZ0R8rBN9"
   },
   "source": [
    "# Retrieve dataset"
   ]
  },
  {
   "cell_type": "code",
   "execution_count": null,
   "metadata": {
    "colab": {},
    "colab_type": "code",
    "id": "ZSFQUbIMBiS8"
   },
   "outputs": [],
   "source": [
    "DS_URL = \"https://raw.githubusercontent.com/clintonyeb/ml-dataset/master/BEPS.csv\"\n",
    "FIG_SIZE=(12, 6)"
   ]
  },
  {
   "cell_type": "code",
   "execution_count": null,
   "metadata": {
    "colab": {
     "base_uri": "https://localhost:8080/",
     "height": 457
    },
    "colab_type": "code",
    "id": "4GCod7yHsiR4",
    "outputId": "62461a77-bd15-46c9-c263-a5339be7f369"
   },
   "outputs": [],
   "source": [
    "beps = pd.read_csv(DS_URL, names=[\"id\", \"vote\", \"age\", \"nat_cond\", \"hhold_cond\", \"labor_lead_assmnt\", \"cons_lead_assmnt\", \"democ_lead_assmnt\", \"euro_intg_attud\", \"political_knowledge\", \"gender\"], index_col=\"id\", header=0)\n",
    "beps.head(10)"
   ]
  },
  {
   "cell_type": "markdown",
   "metadata": {
    "colab_type": "text",
    "id": "bQU3suvIvAiR"
   },
   "source": [
    "# Exploratory Data Analysis (EDA)"
   ]
  },
  {
   "cell_type": "code",
   "execution_count": null,
   "metadata": {
    "colab": {
     "base_uri": "https://localhost:8080/",
     "height": 269
    },
    "colab_type": "code",
    "id": "QeM3wsMFCa2E",
    "outputId": "30b737ae-8ecf-4317-e17a-4fe7cb08e960"
   },
   "outputs": [],
   "source": [
    "print(\"Number of records: \", len(beps))\n",
    "print(\"Shape: \", beps.shape)\n",
    "# Checks if there are any missing values\n",
    "print(\"\\nMissing data?\")\n",
    "beps.isnull().sum()"
   ]
  },
  {
   "cell_type": "code",
   "execution_count": null,
   "metadata": {
    "colab": {
     "base_uri": "https://localhost:8080/",
     "height": 285
    },
    "colab_type": "code",
    "id": "hzZK7244CoJw",
    "outputId": "9c3441af-0c90-4a9b-becb-40c938b4a907"
   },
   "outputs": [],
   "source": [
    "sns.countplot(x=\"vote\", data=beps);"
   ]
  },
  {
   "cell_type": "markdown",
   "metadata": {
    "colab_type": "text",
    "id": "SEdr9Y0LC0Mz"
   },
   "source": [
    "The Labor party won that election. This might be the reason why it's more represented here!"
   ]
  },
  {
   "cell_type": "code",
   "execution_count": null,
   "metadata": {
    "colab": {},
    "colab_type": "code",
    "id": "yMH3YzoCCydH"
   },
   "outputs": [],
   "source": [
    "sns.set(style=\"whitegrid\")\n",
    "sns.violinplot(x=\"vote\", y=\"age\", data=beps);"
   ]
  },
  {
   "cell_type": "code",
   "execution_count": null,
   "metadata": {
    "colab": {},
    "colab_type": "code",
    "id": "FsE_i--vC_Mp"
   },
   "outputs": [],
   "source": [
    "sns.boxplot(x=\"vote\", y=\"age\", data=beps);"
   ]
  },
  {
   "cell_type": "markdown",
   "metadata": {
    "colab_type": "text",
    "id": "oyDOdSLiC8BA"
   },
   "source": [
    "We can tell from the above two graphs that the Conservate party voter's typical age is higher than that of the two other parties"
   ]
  },
  {
   "cell_type": "code",
   "execution_count": null,
   "metadata": {
    "colab": {},
    "colab_type": "code",
    "id": "QuCbhqJHDMB_"
   },
   "outputs": [],
   "source": [
    "beps.groupby('vote')['nat_cond'].plot.hist(legend=True, figsize=FIG_SIZE);"
   ]
  },
  {
   "cell_type": "markdown",
   "metadata": {
    "colab_type": "text",
    "id": "68xbYc9RDQ0X"
   },
   "source": [
    "It seems like the Labor's party voters were happier with the national economic conditions than the others, followed by the Liberal Democrat's"
   ]
  },
  {
   "cell_type": "code",
   "execution_count": null,
   "metadata": {
    "colab": {},
    "colab_type": "code",
    "id": "6spUrJboEF0S"
   },
   "outputs": [],
   "source": [
    "beps.groupby('vote')['hhold_cond'].plot.hist(legend=True, figsize=FIG_SIZE);"
   ]
  },
  {
   "cell_type": "markdown",
   "metadata": {
    "colab_type": "text",
    "id": "N0QhIYN-EWD6"
   },
   "source": [
    "The public attitude towards household economic conditions reflects that towards national economic conditions"
   ]
  },
  {
   "cell_type": "code",
   "execution_count": null,
   "metadata": {
    "colab": {},
    "colab_type": "code",
    "id": "ulxocSS3Eaq5"
   },
   "outputs": [],
   "source": [
    "beps.groupby('vote')['labor_lead_assmnt'].plot.hist(legend=True, figsize=FIG_SIZE);"
   ]
  },
  {
   "cell_type": "markdown",
   "metadata": {
    "colab_type": "text",
    "id": "HlDBv3siEfRu"
   },
   "source": [
    "It seems like the Labor's leader (i.e. Tony Blair) was just fine, but the voters might wanted more, because even among the Labor's voters there were way more 4s than 5s. Also, it seems like he was more popular among the Libral Democrats than the Conservatives."
   ]
  },
  {
   "cell_type": "code",
   "execution_count": null,
   "metadata": {
    "colab": {},
    "colab_type": "code",
    "id": "FhxA-m7GE3fr"
   },
   "outputs": [],
   "source": [
    "beps.groupby('vote')['cons_lead_assmnt'].plot.hist(legend=True, figsize=FIG_SIZE);"
   ]
  },
  {
   "cell_type": "markdown",
   "metadata": {
    "colab_type": "text",
    "id": "-c3ORcCdFADn"
   },
   "source": [
    "It doesn't seem like the conservative's leader (i.e. John Major) was more popular among Labour's voters than the Labour's leader was among the Conservatives!\n",
    "But the Liberal Democrats seemed more into the Labour's leader than the Conservative's leader."
   ]
  },
  {
   "cell_type": "code",
   "execution_count": null,
   "metadata": {
    "colab": {},
    "colab_type": "code",
    "id": "Y7rPAblyE7-I"
   },
   "outputs": [],
   "source": [
    "beps.groupby('vote')['democ_lead_assmnt'].plot.hist(legend=True, figsize=FIG_SIZE);"
   ]
  },
  {
   "cell_type": "markdown",
   "metadata": {
    "colab_type": "text",
    "id": "mOSegtjoFLoE"
   },
   "source": [
    "The Liberal Democrat's leader (i.e. Paddy Ashdown) seemed just fine, but not so popular even among Liberal Democrats or the Labour's voters.\n",
    "But it obvious that the Conservatives didn't like him at all."
   ]
  },
  {
   "cell_type": "code",
   "execution_count": null,
   "metadata": {
    "colab": {},
    "colab_type": "code",
    "id": "Ztt7w_8VFZW1"
   },
   "outputs": [],
   "source": [
    "beps.groupby('vote')['euro_intg_attud'].plot.hist(legend=True, figsize=FIG_SIZE);"
   ]
  },
  {
   "cell_type": "markdown",
   "metadata": {
    "colab_type": "text",
    "id": "XTcBoTy4FddA"
   },
   "source": [
    "The most prominent attitude was the Conservatives attitude! They seemed very Eurosceptic! "
   ]
  },
  {
   "cell_type": "code",
   "execution_count": null,
   "metadata": {
    "colab": {},
    "colab_type": "code",
    "id": "MivjkU3nFsUH"
   },
   "outputs": [],
   "source": [
    "beps.groupby(['vote', 'gender'])['vote'].count().unstack('gender').plot.bar(stacked=True, figsize=FIG_SIZE);"
   ]
  },
  {
   "cell_type": "markdown",
   "metadata": {
    "colab_type": "text",
    "id": "bn1NhwK7FvLr"
   },
   "source": [
    "The number of female voters in almost all the parties was almost half the number of male voters!"
   ]
  },
  {
   "cell_type": "code",
   "execution_count": null,
   "metadata": {},
   "outputs": [],
   "source": [
    "g = sns.FacetGrid(beps, col=\"vote\", margin_titles=True)\n",
    "g.map(plt.hist, \"political_knowledge\", color=\"steelblue\");"
   ]
  },
  {
   "cell_type": "code",
   "execution_count": null,
   "metadata": {},
   "outputs": [],
   "source": [
    "plt.figure(figsize=FIG_SIZE)\n",
    "sns.countplot(x='political_knowledge', hue='vote', data=beps);"
   ]
  },
  {
   "cell_type": "markdown",
   "metadata": {},
   "source": [
    "We can vaguely say that the Conservatives tend to report higher knowledge of parties' positions on European integration than the other parties' voters tend to do!"
   ]
  },
  {
   "cell_type": "code",
   "execution_count": null,
   "metadata": {
    "colab": {},
    "colab_type": "code",
    "id": "dzp_-ZMzUxFV"
   },
   "outputs": [],
   "source": [
    "nat_hhold = beps.groupby([\"nat_cond\", \"hhold_cond\"])[\"nat_cond\"].count()\n",
    "plt.figure(figsize=FIG_SIZE)\n",
    "sns.heatmap(nat_hhold.unstack(\"hhold_cond\"), annot=True, cmap=\"YlGnBu\");"
   ]
  },
  {
   "cell_type": "code",
   "execution_count": null,
   "metadata": {
    "colab": {},
    "colab_type": "code",
    "id": "BEmybVkceptl"
   },
   "outputs": [],
   "source": [
    "nat_hhold.unstack().plot(figsize=FIG_SIZE);"
   ]
  },
  {
   "cell_type": "markdown",
   "metadata": {
    "colab_type": "text",
    "id": "_mX-xMqqbKH7"
   },
   "source": [
    "The relationship between voter's assessment of current national vs. household economic conditions is not linear! Voters seemed half-half satisfied with both!"
   ]
  },
  {
   "cell_type": "code",
   "execution_count": null,
   "metadata": {},
   "outputs": [],
   "source": [
    "plt.figure(figsize=(17, 6))\n",
    "vote_lab = beps.loc[beps.vote == 'Labour']\n",
    "vote_cons = beps.loc[beps.vote == 'Conservative']\n",
    "vote_democ = beps.loc[beps.vote == 'Liberal Democrat']\n",
    "plt.subplot(131)\n",
    "sns.kdeplot(vote_lab['euro_intg_attud'], vote_lab['age'], cmap=\"YlOrBr\", shade=True, shade_lowest=False)\n",
    "plt.subplot(132)\n",
    "sns.kdeplot(vote_cons['euro_intg_attud'], vote_cons['age'], cmap=\"Reds\", shade=True, shade_lowest=False)\n",
    "plt.subplot(133)\n",
    "sns.kdeplot(vote_democ['euro_intg_attud'], vote_democ['age'], cmap=\"Blues\", shade=True, shade_lowest=False);"
   ]
  },
  {
   "cell_type": "markdown",
   "metadata": {},
   "source": [
    "The trend of older and more Eurosceptic Conservatives is obvious once more!"
   ]
  },
  {
   "cell_type": "code",
   "execution_count": null,
   "metadata": {},
   "outputs": [],
   "source": [
    "fig = plt.figure(figsize=FIG_SIZE)\n",
    "ax = fig.add_subplot(111, projection='3d')\n",
    "beps_c = beps['vote'].map({'Labour':'r', 'Conservative':'b', 'Liberal Democrat':'g'})\n",
    "ax.scatter(beps['labor_lead_assmnt'], beps['cons_lead_assmnt'], beps['democ_lead_assmnt'], s = 60, c=beps_c)\n",
    "ax.set_xlabel('labor_lead_assmnt')\n",
    "ax.set_ylabel('cons_lead_assmnt')\n",
    "ax.set_zlabel('domoc_lead_assmnt')\n",
    "plt.show()"
   ]
  },
  {
   "cell_type": "code",
   "execution_count": null,
   "metadata": {
    "colab": {
     "base_uri": "https://localhost:8080/",
     "height": 1000
    },
    "colab_type": "code",
    "id": "HJNMv_H9GLyG",
    "outputId": "0dfd1f55-e9b6-4f21-e5af-a53de6eb96e0"
   },
   "outputs": [],
   "source": [
    "sns.pairplot(beps[['age', 'nat_cond', 'hhold_cond', 'labor_lead_assmnt', 'cons_lead_assmnt', 'democ_lead_assmnt', 'euro_intg_attud', 'political_knowledge']]);"
   ]
  },
  {
   "cell_type": "markdown",
   "metadata": {
    "colab_type": "text",
    "id": "Bh8s2nL-h5YG"
   },
   "source": [
    "There is no linear correlation between any pair of variables! Even between variables like age and attitudes toward European integration for example, or age and political knowledge!"
   ]
  },
  {
   "cell_type": "markdown",
   "metadata": {},
   "source": [
    "# Support Vector Machine Model (SVM) Analysis"
   ]
  },
  {
   "cell_type": "code",
   "execution_count": null,
   "metadata": {},
   "outputs": [],
   "source": [
    "#Changing to numerical value because will need in Roc Curve\n",
    "y= y.replace(['Labour','Conservative','Liberal Democrat'],[0,1,2])"
   ]
  },
  {
   "cell_type": "code",
   "execution_count": null,
   "metadata": {},
   "outputs": [],
   "source": [
    "X_train, X_test, y_train, y_test = train_test_split(X, y, test_size=0.2)\n",
    "#X_train.iloc[1337]"
   ]
  },
  {
   "cell_type": "code",
   "execution_count": null,
   "metadata": {},
   "outputs": [],
   "source": [
    "#Creating model\n",
    "model = SVC()"
   ]
  },
  {
   "cell_type": "code",
   "execution_count": null,
   "metadata": {},
   "outputs": [],
   "source": [
    "model.fit(X_train, y_train)"
   ]
  },
  {
   "cell_type": "code",
   "execution_count": null,
   "metadata": {},
   "outputs": [],
   "source": [
    "model.score(X_test, y_test)"
   ]
  },
  {
   "cell_type": "code",
   "execution_count": null,
   "metadata": {},
   "outputs": [],
   "source": [
    "#HyperParameter Tuning\n",
    "param_grid = {'C': [1,100], \n",
    "              'gamma': [0.1,0.01,0.001,'auto','scale'],\n",
    "              'kernel': ['rbf','linear']}\n"
   ]
  },
  {
   "cell_type": "code",
   "execution_count": null,
   "metadata": {},
   "outputs": [],
   "source": [
    "f1_scorer = make_scorer(f1_score, average='micro')"
   ]
  },
  {
   "cell_type": "code",
   "execution_count": null,
   "metadata": {
    "scrolled": true
   },
   "outputs": [],
   "source": [
    "grid = GridSearchCV(\n",
    "    estimator=SVC(),\n",
    "    param_grid=param_grid,\n",
    "    cv=5,\n",
    "    return_train_score=False,\n",
    "    scoring=f1_scorer, \n",
    "    n_jobs=-1,\n",
    "    verbose=2)\n",
    "svm_grid=grid.fit(X_train,y_train)"
   ]
  },
  {
   "cell_type": "code",
   "execution_count": null,
   "metadata": {},
   "outputs": [],
   "source": [
    "grid.best_params_"
   ]
  },
  {
   "cell_type": "code",
   "execution_count": null,
   "metadata": {},
   "outputs": [],
   "source": [
    "grid.best_score_"
   ]
  },
  {
   "cell_type": "code",
   "execution_count": null,
   "metadata": {},
   "outputs": [],
   "source": [
    "grid_predictions = grid.predict(X_test)\n",
    "print(confusion_matrix(y_test,grid_predictions))\n",
    "print(classification_report(y_test,grid_predictions))"
   ]
  },
  {
   "cell_type": "code",
   "execution_count": null,
   "metadata": {},
   "outputs": [],
   "source": [
    "#Binarize the output for plot\n",
    "yy = label_binarize(y, classes=[0, 1, 2])\n",
    "n_classes = yy.shape[1]"
   ]
  },
  {
   "cell_type": "code",
   "execution_count": null,
   "metadata": {},
   "outputs": [],
   "source": [
    "#Generating new train and test data with the binarize data\n",
    "Xx_train, Xx_test, yx_train, yx_test = train_test_split(X, yy, test_size=0.2)"
   ]
  },
  {
   "cell_type": "code",
   "execution_count": null,
   "metadata": {},
   "outputs": [],
   "source": [
    "# Learn to predict each class against the other\n",
    "#ROC curve using the best params found in gridSearch\n",
    "classifier = OneVsRestClassifier(SVC(C=100,kernel='rbf', probability=True,\n",
    "                                 gamma='scale'))"
   ]
  },
  {
   "cell_type": "code",
   "execution_count": null,
   "metadata": {},
   "outputs": [],
   "source": [
    "#Generating new yscore with the binarize data\n",
    "yy_score = classifier.fit(Xx_train, yx_train).decision_function(Xx_test)"
   ]
  },
  {
   "cell_type": "code",
   "execution_count": null,
   "metadata": {},
   "outputs": [],
   "source": [
    "# Compute ROC curve for the model with the best paramater\n",
    "fpr = dict()\n",
    "tpr = dict()\n",
    "roc_auc = dict()\n",
    "for i in range(n_classes):\n",
    "    fpr[i], tpr[i], _ = roc_curve(yx_test[:, i], yy_score[:, i])\n",
    "    roc_auc[i] = auc(fpr[i], tpr[i])\n",
    "\n",
    "# Compute micro-average ROC curve and ROC area\n",
    "fpr[\"micro\"], tpr[\"micro\"], _ = roc_curve(yx_test.ravel(), yy_score.ravel())\n",
    "roc_auc[\"micro\"] = auc(fpr[\"micro\"], tpr[\"micro\"])"
   ]
  },
  {
   "cell_type": "code",
   "execution_count": null,
   "metadata": {},
   "outputs": [],
   "source": [
    "plt.figure()\n",
    "lw = 2\n",
    "plt.plot(fpr[2], tpr[2], color='darkorange',\n",
    "         lw=lw, label='ROC curve (area = %0.2f)' % roc_auc[2])\n",
    "plt.plot([0, 1], [0, 1], color='navy', lw=lw, linestyle='--')\n",
    "plt.xlim([0.0, 1.0])\n",
    "plt.ylim([0.0, 1.05])\n",
    "plt.xlabel('False Positive Rate')\n",
    "plt.ylabel('True Positive Rate')\n",
    "plt.title('ROC')\n",
    "plt.legend(loc=\"lower right\")\n",
    "plt.show()"
   ]
  },
  {
   "cell_type": "code",
   "execution_count": null,
   "metadata": {},
   "outputs": [],
   "source": [
    "#Method for ploting learning curve and Validation Curve\n",
    "def plot_learning_curve(estimator, title, X, y, axes=None, ylim=None, cv=None,\n",
    "                        n_jobs=None, train_sizes=np.linspace(.1, 1.0, 5)):\n",
    "   \n",
    "    if axes is None:\n",
    "        _, axes = plt.subplots(1, 1, figsize=(20, 5))\n",
    "\n",
    "    axes[0].set_title(title)\n",
    "    if ylim is not None:\n",
    "        axes[0].set_ylim(*ylim)\n",
    "    axes[0].set_xlabel(\"Training examples\")\n",
    "    axes[0].set_ylabel(\"Score\")\n",
    "\n",
    "    train_sizes, train_scores, test_scores, fit_times, _ = \\\n",
    "        learning_curve(estimator, X, y, cv=cv, n_jobs=n_jobs,\n",
    "                       train_sizes=train_sizes,\n",
    "                       return_times=True)\n",
    "    train_scores_mean = np.mean(train_scores, axis=1)\n",
    "    train_scores_std = np.std(train_scores, axis=1)\n",
    "    test_scores_mean = np.mean(test_scores, axis=1)\n",
    "    test_scores_std = np.std(test_scores, axis=1)\n",
    "    fit_times_mean = np.mean(fit_times, axis=1)\n",
    "    fit_times_std = np.std(fit_times, axis=1)\n",
    "\n",
    "    # Plot learning curve\n",
    "    axes[0].grid()\n",
    "    axes[0].fill_between(train_sizes, train_scores_mean - train_scores_std,\n",
    "                         train_scores_mean + train_scores_std, alpha=0.1,\n",
    "                         color=\"r\")\n",
    "    axes[0].fill_between(train_sizes, test_scores_mean - test_scores_std,\n",
    "                         test_scores_mean + test_scores_std, alpha=0.1,\n",
    "                         color=\"g\")\n",
    "    axes[0].plot(train_sizes, train_scores_mean, 'o-', color=\"r\",\n",
    "                 label=\"Training score\")\n",
    "    axes[0].plot(train_sizes, test_scores_mean, 'o-', color=\"g\",\n",
    "                 label=\"Cross-validation score\")\n",
    "    axes[0].legend(loc=\"best\")\n",
    "    \n",
    "    #plot Validation curve\n",
    "    \n",
    "    param_range = np.logspace(-6, -1, 5)\n",
    "    trainVC_scores, testVC_scores = validation_curve(\n",
    "        estimator, X, y, param_name=\"gamma\", param_range=param_range,\n",
    "        scoring=\"accuracy\", n_jobs=1)\n",
    "    trainVC_scores_mean = np.mean(trainVC_scores, axis=1)\n",
    "    trainVC_scores_std = np.std(trainVC_scores, axis=1)\n",
    "    testVC_scores_mean = np.mean(testVC_scores, axis=1)\n",
    "    testVC_scores_std = np.std(testVC_scores, axis=1)\n",
    "\n",
    "    plt.title(\"Validation Curve with SVM\")\n",
    "    plt.xlabel(r\"$\\gamma$\")\n",
    "    plt.ylabel(\"Score\")\n",
    "    plt.ylim(0.0, 1.1)\n",
    "    lw = 2\n",
    "    plt.semilogx(param_range, trainVC_scores_mean, label=\"Training score\",\n",
    "                 color=\"darkorange\", lw=lw)\n",
    "    plt.fill_between(param_range, trainVC_scores_mean - trainVC_scores_std,\n",
    "                     trainVC_scores_mean + trainVC_scores_std, alpha=0.2,\n",
    "                     color=\"darkorange\", lw=lw)\n",
    "    plt.semilogx(param_range, testVC_scores_mean, label=\"Cross-validation score\",\n",
    "                 color=\"navy\", lw=lw)\n",
    "    plt.fill_between(param_range, testVC_scores_mean - testVC_scores_std,\n",
    "                     testVC_scores_mean + testVC_scores_std, alpha=0.2,\n",
    "                     color=\"navy\", lw=lw)\n",
    "    plt.legend(loc=\"best\")\n",
    "\n",
    "    return plt\n"
   ]
  },
  {
   "cell_type": "code",
   "execution_count": null,
   "metadata": {},
   "outputs": [],
   "source": [
    "fig, axes = plt.subplots(2, 1, figsize=(10, 15))\n",
    "title = r\"Learning Curves (SVM, RBF kernel, scale)\"\n",
    "# SVC is more expensive so we do a lower number of CV iterations:\n",
    "cv = ShuffleSplit(n_splits=10, test_size=0.2, random_state=0)\n",
    "estimator =SVC(C=100,kernel='rbf', probability=True,gamma='scale')\n",
    "plot_learning_curve(estimator, title, X, y, axes=axes,\n",
    "                    cv=cv, n_jobs=4)\n",
    "\n",
    "plt.show()"
   ]
  },
  {
   "cell_type": "markdown",
   "metadata": {},
   "source": [
    "From the learning curve we can see that as the dataset is increacing the training accuracy is decreasing exponentially ,while the cross-validation score is increasing until they both reaches a point where they start converging to a lower value. We can conclude that our dataset is really complexe and won't benefit from adding more dataset.\n",
    "From the validation curve"
   ]
  },
  {
   "cell_type": "markdown",
   "metadata": {},
   "source": [
    "References:\n",
    "    -https://github.com/corymaklin/svm/blob/master/svm.ipynb\n",
    "    -https://scikit-learn.org/stable/auto_examples/datasets/plot_random_dataset.html\n",
    "    -https://scikit-learn.org/stable/auto_examples/model_selection/plot_learning_curve.html\n",
    "    -https://stats.stackexchange.com/questions/437072/use-f1-score-in-gridsearchcv\n",
    "    -https://matplotlib.org/3.1.1/tutorials/toolkits/mplot3d.html\n",
    "    -https://scikit-learn.org/stable/modules/generated/sklearn.decomposition.PCA.html\n",
    "    -https://docs.w3cub.com/scikit_learn/auto_examples/model_selection/plot_validation_curve/\n",
    "        -https://matplotlib.org/3.1.1/api/_as_gen/mpl_toolkits.mplot3d.axes3d.Axes3D.html\n",
    "    -https://pythonprogramming.net/matplotlib-3d-scatterplot-tutorial/\n",
    "    -https://stackoverflow.com/questions/55375515/change-marker-color-in-3d-scatter-plot-based-on-condition\n",
    "    -https://stackoverflow.com/questions/19451400/matplotlib-scatter-marker-size\n",
    "    -https://github.com/dataprofessor/code/blob/master/python/ROC_curve.ipynb\n"
   ]
  },
  {
   "cell_type": "markdown",
   "metadata": {},
   "source": [
    "# Auto ML"
   ]
  },
  {
   "cell_type": "code",
   "execution_count": null,
   "metadata": {},
   "outputs": [],
   "source": [
    "y_train_num = y_train.replace(['Labour', 'Conservative', 'Liberal Democrat'], [1, 2, 3])\n",
    "y_test_num = y_test.replace(['Labour', 'Conservative', 'Liberal Democrat'], [1, 2, 3])"
   ]
  },
  {
   "cell_type": "code",
   "execution_count": null,
   "metadata": {},
   "outputs": [],
   "source": [
    "pipeline_optimizer = TPOTClassifier(generations=5, cv=5, random_state=42, verbosity=2)"
   ]
  },
  {
   "cell_type": "code",
   "execution_count": null,
   "metadata": {},
   "outputs": [],
   "source": [
    "pipeline_optimizer.fit(X_train, y_train_num)"
   ]
  },
  {
   "cell_type": "code",
   "execution_count": null,
   "metadata": {},
   "outputs": [],
   "source": [
    "print(pipeline_optimizer.score(X_test, y_test_num)) "
   ]
  },
  {
   "cell_type": "code",
   "execution_count": null,
   "metadata": {},
   "outputs": [],
   "source": [
    "#watever"
   ]
  }
 ],
 "metadata": {
  "colab": {
   "collapsed_sections": [],
   "name": "election-ml.ipynb",
   "provenance": [],
   "toc_visible": true
  },
  "kernelspec": {
   "display_name": "Python 3",
   "language": "python",
   "name": "python3"
  },
  "language_info": {
   "codemirror_mode": {
    "name": "ipython",
    "version": 3
   },
   "file_extension": ".py",
   "mimetype": "text/x-python",
   "name": "python",
   "nbconvert_exporter": "python",
   "pygments_lexer": "ipython3",
   "version": "3.7.6"
  }
 },
 "nbformat": 4,
 "nbformat_minor": 1
}
